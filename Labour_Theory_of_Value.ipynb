{
 "cells": [
  {
   "cell_type": "markdown",
   "id": "d39dfc0e-57c0-4e3b-8af5-4375b45b4fe1",
   "metadata": {},
   "source": [
    "<h1 align=center> Empirics of the Labour Theory of Value </h1>"
   ]
  },
  {
   "cell_type": "markdown",
   "id": "c5ce09de-79eb-4fb4-87e0-bae82ef24441",
   "metadata": {},
   "source": [
    "In this notebook we shall be attempting to replicate the findings among some emperical economists of a correlation between labour values and industrial outputs; otherwise known as `the labour theory of value(LTV)`. \n",
    "\n",
    "This is a very dense (not to mention, controversial) topic and we may not be able to do it full justice within these pages."
   ]
  },
  {
   "cell_type": "markdown",
   "id": "18987b6b-8dc0-4f59-b79a-01ea0e4543cf",
   "metadata": {},
   "source": [
    "<h2 align=center> Dataset </h2>\n",
    "We are going to use input output tables relating to different countries to test the theory.\n",
    "- <a href=https://www.ons.gov.uk/file?uri=/economy/nationalaccounts/supplyandusetables/datasets/ukinputoutputanalyticaltablesindustrybyindustry/current/nasu1719in.xlsx> UK IO Tables </a"
   ]
  },
  {
   "cell_type": "code",
   "execution_count": 1,
   "id": "5fa18491-bcdb-4839-b46b-1d9d3c4e683e",
   "metadata": {
    "tags": []
   },
   "outputs": [],
   "source": [
    "import pandas as pd\n",
    "import seaborn as sns\n",
    "import numpy as np\n",
    "import matplotlib.pyplot as plt\n",
    "import openpyxl"
   ]
  },
  {
   "cell_type": "code",
   "execution_count": 2,
   "id": "1dcd9a63-0b39-4283-b14d-8a92ad762464",
   "metadata": {
    "tags": []
   },
   "outputs": [],
   "source": [
    "# Load the xlsx file\n",
    "workbook = openpyxl.load_workbook('./data/io_table_uk.xlsx')\n",
    "\n",
    "# Access the specific sheet by name or index\n",
    "sheet_name = 'IOT'\n",
    "sheet = workbook[sheet_name]\n",
    "\n",
    "# Read data from the sheet and store it in a list of lists\n",
    "data = []\n",
    "for row in sheet.iter_rows(values_only=True):\n",
    "    data.append(row)\n",
    "\n",
    "# Create a pandas DataFrame from the data\n",
    "df = pd.DataFrame(data)\n",
    "\n",
    "# Optionally, if you want to set the first row as column names, you can do:\n",
    "# df = pd.DataFrame(data[1:], columns=data[0])\n",
    "\n",
    "# Close the workbook\n",
    "workbook.close()"
   ]
  },
  {
   "cell_type": "markdown",
   "id": "0cf62197-165e-4532-93c5-53e73a73333c",
   "metadata": {},
   "source": [
    "## Exploration"
   ]
  },
  {
   "cell_type": "code",
   "execution_count": 3,
   "id": "4b3aa091-6ff8-4555-94b8-8f639ff311a3",
   "metadata": {
    "tags": []
   },
   "outputs": [
    {
     "data": {
      "text/plain": [
       "(139, 134)"
      ]
     },
     "execution_count": 3,
     "metadata": {},
     "output_type": "execute_result"
    }
   ],
   "source": [
    "df.shape"
   ]
  },
  {
   "cell_type": "markdown",
   "id": "e90faa8e-8709-4828-b75c-05ed7c420584",
   "metadata": {},
   "source": [
    "### Renaming Columns"
   ]
  },
  {
   "cell_type": "code",
   "execution_count": 4,
   "id": "0ae4f0dc-65bd-493e-9b89-83a71d7a3bb6",
   "metadata": {
    "tags": []
   },
   "outputs": [],
   "source": [
    "in_industries = df.iloc[:,1]\n",
    "out_industries = df.iloc[4,:]"
   ]
  },
  {
   "cell_type": "code",
   "execution_count": 5,
   "id": "b01e234e-0052-4348-b6e8-41fc64e243c6",
   "metadata": {
    "tags": []
   },
   "outputs": [],
   "source": [
    "df.columns = out_industries"
   ]
  },
  {
   "cell_type": "code",
   "execution_count": 6,
   "id": "b0f0fe31-dbb9-4328-bb3b-e9691f38f6c8",
   "metadata": {
    "tags": []
   },
   "outputs": [
    {
     "data": {
      "text/html": [
       "<div>\n",
       "<style scoped>\n",
       "    .dataframe tbody tr th:only-of-type {\n",
       "        vertical-align: middle;\n",
       "    }\n",
       "\n",
       "    .dataframe tbody tr th {\n",
       "        vertical-align: top;\n",
       "    }\n",
       "\n",
       "    .dataframe thead th {\n",
       "        text-align: right;\n",
       "    }\n",
       "</style>\n",
       "<table border=\"1\" class=\"dataframe\">\n",
       "  <thead>\n",
       "    <tr style=\"text-align: right;\">\n",
       "      <th>4</th>\n",
       "      <th>None</th>\n",
       "      <th>Industry</th>\n",
       "      <th>Crop And Animal Production, Hunting And Related Service Activities</th>\n",
       "      <th>Forestry And Logging</th>\n",
       "      <th>Fishing And Aquaculture</th>\n",
       "      <th>Mining Of Coal And Lignite</th>\n",
       "      <th>Extraction Of Crude Petroleum And Natural Gas  &amp; Mining Of Metal Ores</th>\n",
       "      <th>Other Mining And Quarrying</th>\n",
       "      <th>Mining Support Service Activities</th>\n",
       "      <th>Processing and preserving of meat and production of meat products</th>\n",
       "      <th>...</th>\n",
       "      <th>None</th>\n",
       "      <th>None</th>\n",
       "      <th>None</th>\n",
       "      <th>None</th>\n",
       "      <th>None</th>\n",
       "      <th>None</th>\n",
       "      <th>None</th>\n",
       "      <th>None</th>\n",
       "      <th>None</th>\n",
       "      <th>None</th>\n",
       "    </tr>\n",
       "  </thead>\n",
       "  <tbody>\n",
       "    <tr>\n",
       "      <th>0</th>\n",
       "      <td>2019 Input-Output Analytical Tables</td>\n",
       "      <td>None</td>\n",
       "      <td>None</td>\n",
       "      <td>None</td>\n",
       "      <td>None</td>\n",
       "      <td>None</td>\n",
       "      <td>None</td>\n",
       "      <td>None</td>\n",
       "      <td>None</td>\n",
       "      <td>None</td>\n",
       "      <td>...</td>\n",
       "      <td>None</td>\n",
       "      <td>None</td>\n",
       "      <td>None</td>\n",
       "      <td>None</td>\n",
       "      <td>None</td>\n",
       "      <td>None</td>\n",
       "      <td>None</td>\n",
       "      <td>None</td>\n",
       "      <td>None</td>\n",
       "      <td>None</td>\n",
       "    </tr>\n",
       "  </tbody>\n",
       "</table>\n",
       "<p>1 rows × 134 columns</p>\n",
       "</div>"
      ],
      "text/plain": [
       "4                                 None Industry  \\\n",
       "0  2019 Input-Output Analytical Tables     None   \n",
       "\n",
       "4 Crop And Animal Production, Hunting And Related Service Activities    \\\n",
       "0                                               None                     \n",
       "\n",
       "4 Forestry And Logging   Fishing And Aquaculture    \\\n",
       "0                   None                      None   \n",
       "\n",
       "4 Mining Of Coal And Lignite    \\\n",
       "0                         None   \n",
       "\n",
       "4 Extraction Of Crude Petroleum And Natural Gas  & Mining Of Metal Ores  \\\n",
       "0                                               None                      \n",
       "\n",
       "4 Other Mining And Quarrying   Mining Support Service Activities    \\\n",
       "0                         None                                None   \n",
       "\n",
       "4 Processing and preserving of meat and production of meat products  ...  \\\n",
       "0                                               None                 ...   \n",
       "\n",
       "4  None  None  None  None  None  None  None  None  None  None  \n",
       "0  None  None  None  None  None  None  None  None  None  None  \n",
       "\n",
       "[1 rows x 134 columns]"
      ]
     },
     "execution_count": 6,
     "metadata": {},
     "output_type": "execute_result"
    }
   ],
   "source": [
    "df.head(1)"
   ]
  },
  {
   "cell_type": "markdown",
   "id": "f8fbf44e-1700-459f-8347-db6392440776",
   "metadata": {},
   "source": [
    "### Labour Content\n",
    "This is the monetary amount, `wages`, paid out to employees for each industry. It is called in the dataset `Compensation of employees`."
   ]
  },
  {
   "cell_type": "code",
   "execution_count": 7,
   "id": "86fd6fd5-3ebc-42da-873a-99e5f06e9ed3",
   "metadata": {
    "tags": []
   },
   "outputs": [
    {
     "name": "stdout",
     "output_type": "stream",
     "text": [
      "Wages found\n"
     ]
    }
   ],
   "source": [
    "for item in in_industries:\n",
    "    if 'Compensation of employees' == item:\n",
    "        print('Wages found')"
   ]
  },
  {
   "cell_type": "code",
   "execution_count": 8,
   "id": "d124cfe9-e1fa-41f9-9ad2-ce24b7efd004",
   "metadata": {
    "tags": []
   },
   "outputs": [
    {
     "data": {
      "text/html": [
       "<div>\n",
       "<style scoped>\n",
       "    .dataframe tbody tr th:only-of-type {\n",
       "        vertical-align: middle;\n",
       "    }\n",
       "\n",
       "    .dataframe tbody tr th {\n",
       "        vertical-align: top;\n",
       "    }\n",
       "\n",
       "    .dataframe thead th {\n",
       "        text-align: right;\n",
       "    }\n",
       "</style>\n",
       "<table border=\"1\" class=\"dataframe\">\n",
       "  <thead>\n",
       "    <tr style=\"text-align: right;\">\n",
       "      <th>4</th>\n",
       "      <th>None</th>\n",
       "      <th>Industry</th>\n",
       "      <th>Crop And Animal Production, Hunting And Related Service Activities</th>\n",
       "      <th>Forestry And Logging</th>\n",
       "      <th>Fishing And Aquaculture</th>\n",
       "      <th>Mining Of Coal And Lignite</th>\n",
       "      <th>Extraction Of Crude Petroleum And Natural Gas  &amp; Mining Of Metal Ores</th>\n",
       "      <th>Other Mining And Quarrying</th>\n",
       "      <th>Mining Support Service Activities</th>\n",
       "      <th>Processing and preserving of meat and production of meat products</th>\n",
       "      <th>...</th>\n",
       "      <th>None</th>\n",
       "      <th>None</th>\n",
       "      <th>None</th>\n",
       "      <th>None</th>\n",
       "      <th>None</th>\n",
       "      <th>None</th>\n",
       "      <th>None</th>\n",
       "      <th>None</th>\n",
       "      <th>None</th>\n",
       "      <th>None</th>\n",
       "    </tr>\n",
       "  </thead>\n",
       "  <tbody>\n",
       "    <tr>\n",
       "      <th>115</th>\n",
       "      <td>D1</td>\n",
       "      <td>Compensation of employees</td>\n",
       "      <td>3658</td>\n",
       "      <td>506</td>\n",
       "      <td>388</td>\n",
       "      <td>80</td>\n",
       "      <td>2235</td>\n",
       "      <td>917</td>\n",
       "      <td>1130</td>\n",
       "      <td>3746</td>\n",
       "      <td>...</td>\n",
       "      <td>None</td>\n",
       "      <td>None</td>\n",
       "      <td>None</td>\n",
       "      <td>None</td>\n",
       "      <td>None</td>\n",
       "      <td>None</td>\n",
       "      <td>None</td>\n",
       "      <td>None</td>\n",
       "      <td>None</td>\n",
       "      <td>None</td>\n",
       "    </tr>\n",
       "  </tbody>\n",
       "</table>\n",
       "<p>1 rows × 134 columns</p>\n",
       "</div>"
      ],
      "text/plain": [
       "4   None                   Industry  \\\n",
       "115   D1  Compensation of employees   \n",
       "\n",
       "4   Crop And Animal Production, Hunting And Related Service Activities    \\\n",
       "115                                               3658                     \n",
       "\n",
       "4   Forestry And Logging   Fishing And Aquaculture    \\\n",
       "115                    506                       388   \n",
       "\n",
       "4   Mining Of Coal And Lignite    \\\n",
       "115                           80   \n",
       "\n",
       "4   Extraction Of Crude Petroleum And Natural Gas  & Mining Of Metal Ores  \\\n",
       "115                                               2235                      \n",
       "\n",
       "4   Other Mining And Quarrying   Mining Support Service Activities    \\\n",
       "115                          917                                1130   \n",
       "\n",
       "4   Processing and preserving of meat and production of meat products  ...  \\\n",
       "115                                               3746                 ...   \n",
       "\n",
       "4    None  None  None  None  None  None  None  None  None  None  \n",
       "115  None  None  None  None  None  None  None  None  None  None  \n",
       "\n",
       "[1 rows x 134 columns]"
      ]
     },
     "execution_count": 8,
     "metadata": {},
     "output_type": "execute_result"
    }
   ],
   "source": [
    "wages = df[df.iloc[:,1] == 'Compensation of employees']\n",
    "wages"
   ]
  },
  {
   "cell_type": "markdown",
   "id": "f8ff502d-2b05-43f6-8f33-3a2afcbe62cb",
   "metadata": {},
   "source": [
    "### Output per Industry"
   ]
  },
  {
   "cell_type": "code",
   "execution_count": 9,
   "id": "59fbbade-dd25-46d4-8e3e-dbf72a008832",
   "metadata": {
    "tags": []
   },
   "outputs": [
    {
     "name": "stdout",
     "output_type": "stream",
     "text": [
      "Output found\n"
     ]
    }
   ],
   "source": [
    "for item in in_industries:\n",
    "    if 'Total output at basic prices' == item:\n",
    "        print('Output found')"
   ]
  },
  {
   "cell_type": "code",
   "execution_count": 10,
   "id": "d600d81e-746a-4369-b1fa-093060070010",
   "metadata": {
    "tags": []
   },
   "outputs": [
    {
     "data": {
      "text/html": [
       "<div>\n",
       "<style scoped>\n",
       "    .dataframe tbody tr th:only-of-type {\n",
       "        vertical-align: middle;\n",
       "    }\n",
       "\n",
       "    .dataframe tbody tr th {\n",
       "        vertical-align: top;\n",
       "    }\n",
       "\n",
       "    .dataframe thead th {\n",
       "        text-align: right;\n",
       "    }\n",
       "</style>\n",
       "<table border=\"1\" class=\"dataframe\">\n",
       "  <thead>\n",
       "    <tr style=\"text-align: right;\">\n",
       "      <th>4</th>\n",
       "      <th>None</th>\n",
       "      <th>Industry</th>\n",
       "      <th>Crop And Animal Production, Hunting And Related Service Activities</th>\n",
       "      <th>Forestry And Logging</th>\n",
       "      <th>Fishing And Aquaculture</th>\n",
       "      <th>Mining Of Coal And Lignite</th>\n",
       "      <th>Extraction Of Crude Petroleum And Natural Gas  &amp; Mining Of Metal Ores</th>\n",
       "      <th>Other Mining And Quarrying</th>\n",
       "      <th>Mining Support Service Activities</th>\n",
       "      <th>Processing and preserving of meat and production of meat products</th>\n",
       "      <th>...</th>\n",
       "      <th>None</th>\n",
       "      <th>None</th>\n",
       "      <th>None</th>\n",
       "      <th>None</th>\n",
       "      <th>None</th>\n",
       "      <th>None</th>\n",
       "      <th>None</th>\n",
       "      <th>None</th>\n",
       "      <th>None</th>\n",
       "      <th>None</th>\n",
       "    </tr>\n",
       "  </thead>\n",
       "  <tbody>\n",
       "    <tr>\n",
       "      <th>119</th>\n",
       "      <td>P1</td>\n",
       "      <td>Total output at basic prices</td>\n",
       "      <td>30872</td>\n",
       "      <td>1916</td>\n",
       "      <td>2183</td>\n",
       "      <td>366</td>\n",
       "      <td>29703</td>\n",
       "      <td>5901</td>\n",
       "      <td>5302</td>\n",
       "      <td>19967</td>\n",
       "      <td>...</td>\n",
       "      <td>None</td>\n",
       "      <td>None</td>\n",
       "      <td>None</td>\n",
       "      <td>None</td>\n",
       "      <td>None</td>\n",
       "      <td>None</td>\n",
       "      <td>None</td>\n",
       "      <td>None</td>\n",
       "      <td>None</td>\n",
       "      <td>None</td>\n",
       "    </tr>\n",
       "  </tbody>\n",
       "</table>\n",
       "<p>1 rows × 134 columns</p>\n",
       "</div>"
      ],
      "text/plain": [
       "4   None                      Industry  \\\n",
       "119   P1  Total output at basic prices   \n",
       "\n",
       "4   Crop And Animal Production, Hunting And Related Service Activities    \\\n",
       "119                                              30872                     \n",
       "\n",
       "4   Forestry And Logging   Fishing And Aquaculture    \\\n",
       "119                   1916                      2183   \n",
       "\n",
       "4   Mining Of Coal And Lignite    \\\n",
       "119                          366   \n",
       "\n",
       "4   Extraction Of Crude Petroleum And Natural Gas  & Mining Of Metal Ores  \\\n",
       "119                                              29703                      \n",
       "\n",
       "4   Other Mining And Quarrying   Mining Support Service Activities    \\\n",
       "119                         5901                                5302   \n",
       "\n",
       "4   Processing and preserving of meat and production of meat products  ...  \\\n",
       "119                                              19967                 ...   \n",
       "\n",
       "4    None  None  None  None  None  None  None  None  None  None  \n",
       "119  None  None  None  None  None  None  None  None  None  None  \n",
       "\n",
       "[1 rows x 134 columns]"
      ]
     },
     "execution_count": 10,
     "metadata": {},
     "output_type": "execute_result"
    }
   ],
   "source": [
    "output = df[df.iloc[:,1] == 'Total output at basic prices']\n",
    "output"
   ]
  },
  {
   "cell_type": "markdown",
   "id": "b7ed234d-b2d4-4309-a578-e30312f955be",
   "metadata": {},
   "source": [
    "#### Cleaning"
   ]
  },
  {
   "cell_type": "code",
   "execution_count": 11,
   "id": "fb86fa2b-b054-4d1d-ba92-0286ea101f7f",
   "metadata": {
    "tags": []
   },
   "outputs": [
    {
     "name": "stderr",
     "output_type": "stream",
     "text": [
      "C:\\Users\\USER\\AppData\\Local\\Temp\\ipykernel_16976\\1207408889.py:2: SettingWithCopyWarning: \n",
      "A value is trying to be set on a copy of a slice from a DataFrame\n",
      "\n",
      "See the caveats in the documentation: https://pandas.pydata.org/pandas-docs/stable/user_guide/indexing.html#returning-a-view-versus-a-copy\n",
      "  wages.fillna(0, inplace=True)\n"
     ]
    }
   ],
   "source": [
    "wages = wages.iloc[:,2:]\n",
    "wages.fillna(0, inplace=True)\n",
    "wages = wages.values"
   ]
  },
  {
   "cell_type": "code",
   "execution_count": 12,
   "id": "4a644cc6-5911-49be-a576-1031f5f331ec",
   "metadata": {
    "tags": []
   },
   "outputs": [
    {
     "name": "stderr",
     "output_type": "stream",
     "text": [
      "C:\\Users\\USER\\AppData\\Local\\Temp\\ipykernel_16976\\4037850799.py:2: SettingWithCopyWarning: \n",
      "A value is trying to be set on a copy of a slice from a DataFrame\n",
      "\n",
      "See the caveats in the documentation: https://pandas.pydata.org/pandas-docs/stable/user_guide/indexing.html#returning-a-view-versus-a-copy\n",
      "  output.fillna(0, inplace=True)\n"
     ]
    }
   ],
   "source": [
    "output = output.iloc[:,2:]\n",
    "output.fillna(0, inplace=True)\n",
    "outputs = output.values"
   ]
  },
  {
   "cell_type": "markdown",
   "id": "df0b793d-880a-47b0-b4f8-c93ae20a4a51",
   "metadata": {},
   "source": [
    "### Plotting"
   ]
  },
  {
   "cell_type": "code",
   "execution_count": 13,
   "id": "1106c714-267d-4e84-9365-66ee2fdd3daf",
   "metadata": {
    "tags": []
   },
   "outputs": [
    {
     "data": {
      "text/plain": [
       "True"
      ]
     },
     "execution_count": 13,
     "metadata": {},
     "output_type": "execute_result"
    }
   ],
   "source": [
    "len(wages) == len(outputs)"
   ]
  },
  {
   "cell_type": "code",
   "execution_count": 14,
   "id": "0ad74ece-9200-44a1-80ec-90c0140695a2",
   "metadata": {
    "tags": []
   },
   "outputs": [
    {
     "data": {
      "text/plain": [
       "1"
      ]
     },
     "execution_count": 14,
     "metadata": {},
     "output_type": "execute_result"
    }
   ],
   "source": [
    "wages.ndim\n",
    "wages = wages.flatten()\n",
    "wages.ndim"
   ]
  },
  {
   "cell_type": "code",
   "execution_count": 15,
   "id": "622caef2-1648-4c4c-8ced-1d28e0067259",
   "metadata": {
    "tags": []
   },
   "outputs": [
    {
     "data": {
      "text/plain": [
       "1"
      ]
     },
     "execution_count": 15,
     "metadata": {},
     "output_type": "execute_result"
    }
   ],
   "source": [
    "outputs.ndim\n",
    "outputs = outputs.flatten()\n",
    "outputs.ndim"
   ]
  },
  {
   "cell_type": "code",
   "execution_count": 16,
   "id": "5faa1b34-675f-479d-8233-224885ea9b09",
   "metadata": {
    "tags": []
   },
   "outputs": [
    {
     "data": {
      "text/plain": [
       "<AxesSubplot:>"
      ]
     },
     "execution_count": 16,
     "metadata": {},
     "output_type": "execute_result"
    },
    {
     "data": {
      "image/png": "[encoded data removed]",
      "text/plain": [
       "<Figure size 432x288 with 1 Axes>"
      ]
     },
     "metadata": {
      "needs_background": "light"
     },
     "output_type": "display_data"
    }
   ],
   "source": [
    "sns.scatterplot(x=wages, y=outputs)"
   ]
  },
  {
   "cell_type": "markdown",
   "id": "551761f7-51b9-420e-90ed-7165075f575c",
   "metadata": {},
   "source": [
    "### Outlier Problems"
   ]
  },
  {
   "cell_type": "code",
   "execution_count": 17,
   "id": "f9852b6a-82a6-4b27-9593-fc8858457b22",
   "metadata": {
    "tags": []
   },
   "outputs": [],
   "source": [
    "def remove_outliers_symmetric(x, y):\n",
    "\n",
    "    # Calculate the IQR (Interquartile Range) for both arrays\n",
    "    q1_x = np.percentile(x, 25)\n",
    "    q3_x = np.percentile(x, 75)\n",
    "    iqr_x = q3_x - q1_x\n",
    "\n",
    "    q1_y = np.percentile(y, 25)\n",
    "    q3_y = np.percentile(y, 75)\n",
    "    iqr_y = q3_y - q1_y\n",
    "\n",
    "    # Define the lower and upper bounds for outlier removal\n",
    "    lower_bound_x = q1_x - 1.5 * iqr_x\n",
    "    upper_bound_x = q3_x + 1.5 * iqr_x\n",
    "\n",
    "    lower_bound_y = q1_y - 1.5 * iqr_y\n",
    "    upper_bound_y = q3_y + 1.5 * iqr_y\n",
    "\n",
    "    # Filter out the outliers for both arrays\n",
    "    filtered_indices = (x >= lower_bound_x) & (x <= upper_bound_x) & (y >= lower_bound_y) & (y <= upper_bound_y)\n",
    "    x_filtered = x[filtered_indices]\n",
    "    y_filtered = y[filtered_indices]\n",
    "    \n",
    "    return x_filtered, y_filtered"
   ]
  },
  {
   "cell_type": "code",
   "execution_count": 18,
   "id": "168cfde8-57d1-4128-83fb-d7cc71d6a084",
   "metadata": {
    "tags": []
   },
   "outputs": [],
   "source": [
    "wages_, outputs_ = remove_outliers_symmetric(wages, outputs)"
   ]
  },
  {
   "cell_type": "markdown",
   "id": "21f45fda-2c20-4b22-8d67-802d1555fba0",
   "metadata": {},
   "source": [
    "### Correlation Coefficient and R Squared"
   ]
  },
  {
   "cell_type": "code",
   "execution_count": 19,
   "id": "5d9187c8-01b9-4030-ae64-d7f97da11b86",
   "metadata": {
    "tags": []
   },
   "outputs": [],
   "source": [
    "from scipy.stats import pearsonr\n",
    "from sklearn.metrics import mean_absolute_error, mean_squared_error, r2_score"
   ]
  },
  {
   "cell_type": "code",
   "execution_count": 20,
   "id": "c6bb91e2-f5fe-4433-805d-1c0168bdfe7c",
   "metadata": {
    "tags": []
   },
   "outputs": [
    {
     "ename": "NameError",
     "evalue": "name 'r_squared' is not defined",
     "output_type": "error",
     "traceback": [
      "\u001b[1;31m---------------------------------------------------------------------------\u001b[0m",
      "\u001b[1;31mNameError\u001b[0m                                 Traceback (most recent call last)",
      "Input \u001b[1;32mIn [20]\u001b[0m, in \u001b[0;36m<module>\u001b[1;34m\u001b[0m\n\u001b[0;32m      4\u001b[0m \u001b[38;5;66;03m# Calculate the correlation coefficient\u001b[39;00m\n\u001b[0;32m      5\u001b[0m correlation_coefficient, _ \u001b[38;5;241m=\u001b[39m pearsonr(x, y)\n\u001b[1;32m----> 6\u001b[0m custom_message \u001b[38;5;241m=\u001b[39m \u001b[38;5;124mf\u001b[39m\u001b[38;5;124m\"\u001b[39m\u001b[38;5;124mCorrelation Coefficient: \u001b[39m\u001b[38;5;132;01m{\u001b[39;00m\u001b[38;5;28mround\u001b[39m(correlation_coefficient,\u001b[38;5;250m \u001b[39m\u001b[38;5;241m2\u001b[39m)\u001b[38;5;132;01m}\u001b[39;00m\u001b[38;5;124m \u001b[39m\u001b[38;5;130;01m\\n\u001b[39;00m\u001b[38;5;124m \u001b[39m\u001b[38;5;130;01m\\n\u001b[39;00m\u001b[38;5;124m R-squared: \u001b[39m\u001b[38;5;132;01m{\u001b[39;00m\u001b[38;5;28mround\u001b[39m(r_squared,\u001b[38;5;250m \u001b[39m\u001b[38;5;241m2\u001b[39m)\u001b[38;5;132;01m}\u001b[39;00m\u001b[38;5;124m\"\u001b[39m\n\u001b[0;32m      8\u001b[0m r_squared \u001b[38;5;241m=\u001b[39m correlation_coefficient \u001b[38;5;241m*\u001b[39m\u001b[38;5;241m*\u001b[39m \u001b[38;5;241m2\u001b[39m\n\u001b[0;32m      9\u001b[0m \u001b[38;5;28mprint\u001b[39m(\u001b[38;5;124mf\u001b[39m\u001b[38;5;124m\"\u001b[39m\u001b[38;5;124mR-squared (coefficient of determination): \u001b[39m\u001b[38;5;132;01m{\u001b[39;00mr_squared\u001b[38;5;132;01m}\u001b[39;00m\u001b[38;5;124m\"\u001b[39m)\n",
      "\u001b[1;31mNameError\u001b[0m: name 'r_squared' is not defined"
     ]
    }
   ],
   "source": [
    "x = wages_\n",
    "y = outputs_\n",
    "\n",
    "# Calculate the correlation coefficient\n",
    "correlation_coefficient, _ = pearsonr(x, y)\n",
    "\n",
    "r_squared = correlation_coefficient ** 2\n",
    "print(f\"R-squared (coefficient of determination): {r_squared}\")"
   ]
  },
  {
   "cell_type": "code",
   "execution_count": null,
   "id": "59cbf81d-22a3-4a4e-9b18-4dd07aa8b3c1",
   "metadata": {},
   "outputs": [],
   "source": [
    "custom_message = f\"Correlation Coefficient: {round(correlation_coefficient, 2)} \\n \\n R-squared: {round(r_squared, 2)}\""
   ]
  },
  {
   "cell_type": "code",
   "execution_count": null,
   "id": "58711a1d-2faa-4114-b4f2-0254d0de2ec4",
   "metadata": {
    "tags": []
   },
   "outputs": [],
   "source": [
    "# Now you can plot the filtered data\n",
    "plt.figure(figsize=(8, 6))\n",
    "plt.plot(wages_, outputs_, 'bo')\n",
    "plt.legend(loc='upper right', title=custom_message)\n",
    "plt.xlabel('Wages (Proxy for Labour Values)')\n",
    "plt.ylabel('Industrial Output (In Money)')\n",
    "plt.title('Correlation between Labour Values and Output')\n",
    "plt.show()"
   ]
  },
  {
   "cell_type": "markdown",
   "id": "fddc60c2-5f7c-4422-92b9-9d90c14cc9b9",
   "metadata": {},
   "source": [
    "<h2 align=center> Conclusion 1 </h2>\n",
    "\n",
    "We have indeed idenfified a good correltion between labour values, represented here as wages, and industrial output, `r_squared = 0.78`\n",
    "\n",
    ". These are good results in support of the LTV which states:\n",
    "> The higher the labour value contained in commodities, the higher the price (to paraphrase)\n",
    "\n",
    "<h3 align=center> Caveats </h3>\n",
    "This is only a preliminary conclusion. There are plenty of other factors to take into account (such as the possibility spurious correlation). For now we only say that the relationship tracks well with what the theory says."
   ]
  },
  {
   "cell_type": "code",
   "execution_count": null,
   "id": "b044b164-3078-453a-ab48-ef788b5b3c4d",
   "metadata": {},
   "outputs": [],
   "source": []
  }
 ],
 "metadata": {
  "kernelspec": {
   "display_name": "Python 3 (ipykernel)",
   "language": "python",
   "name": "python3"
  },
  "language_info": {
   "codemirror_mode": {
    "name": "ipython",
    "version": 3
   },
   "file_extension": ".py",
   "mimetype": "text/x-python",
   "name": "python",
   "nbconvert_exporter": "python",
   "pygments_lexer": "ipython3",
   "version": "3.10.4"
  }
 },
 "nbformat": 4,
 "nbformat_minor": 5
}
